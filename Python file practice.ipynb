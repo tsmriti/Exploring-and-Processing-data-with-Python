{
 "cells": [
  {
   "cell_type": "code",
   "execution_count": 3,
   "metadata": {},
   "outputs": [],
   "source": [
    "def changeme(mylist):\n",
    "    mylist.append([1,2,3]);\n",
    "    #print(\"Value changed inside:\",mylist)\n",
    "    return"
   ]
  },
  {
   "cell_type": "code",
   "execution_count": 4,
   "metadata": {},
   "outputs": [
    {
     "name": "stdout",
     "output_type": "stream",
     "text": [
      "('Value changed outside:', [20, 30, 40, [1, 2, 3]])\n"
     ]
    }
   ],
   "source": [
    "mylist=[20,30,40]\n",
    "changeme(mylist);\n",
    "print(\"Value changed outside:\",mylist)"
   ]
  },
  {
   "cell_type": "code",
   "execution_count": 7,
   "metadata": {},
   "outputs": [
    {
     "name": "stdout",
     "output_type": "stream",
     "text": [
      "inside the function local total: 30\n",
      "outside the function global total: 30\n"
     ]
    }
   ],
   "source": [
    "total = 0;\n",
    "def sum(arg1,arg2):\n",
    "    total = arg1+arg2;\n",
    "    print\"inside the function local total:\",total\n",
    "    return total;\n",
    "total = sum(10,20);\n",
    "print\"outside the function global total:\",total"
   ]
  },
  {
   "cell_type": "code",
   "execution_count": 8,
   "metadata": {},
   "outputs": [
    {
     "name": "stdout",
     "output_type": "stream",
     "text": [
      "Please enter your name:smriti\n",
      "('your name is:', 'smriti')\n"
     ]
    }
   ],
   "source": [
    "str=raw_input(\"Please enter your name:\")\n",
    "print(\"your name is:\",str)"
   ]
  },
  {
   "cell_type": "code",
   "execution_count": 9,
   "metadata": {},
   "outputs": [],
   "source": [
    "fo = open(\"abc.py\",\"r\")"
   ]
  },
  {
   "cell_type": "code",
   "execution_count": 10,
   "metadata": {},
   "outputs": [
    {
     "name": "stdout",
     "output_type": "stream",
     "text": [
      "('Name of the file:', 'abc.py')\n",
      "('Closed or not:', False)\n",
      "('Opening mode:', 'r')\n",
      "('Softspace flag:', 0)\n"
     ]
    }
   ],
   "source": [
    "print(\"Name of the file:\",fo.name)\n",
    "print(\"Closed or not:\",fo.closed)\n",
    "print(\"Opening mode:\",fo.mode)\n",
    "print(\"Softspace flag:\",fo.softspace)"
   ]
  },
  {
   "cell_type": "code",
   "execution_count": 11,
   "metadata": {},
   "outputs": [],
   "source": [
    "fo.close()"
   ]
  },
  {
   "cell_type": "code",
   "execution_count": 12,
   "metadata": {},
   "outputs": [
    {
     "name": "stdout",
     "output_type": "stream",
     "text": [
      "('CLosed or not:', True)\n"
     ]
    }
   ],
   "source": [
    "print(\"CLosed or not:\",fo.closed)"
   ]
  },
  {
   "cell_type": "code",
   "execution_count": 13,
   "metadata": {},
   "outputs": [
    {
     "name": "stdout",
     "output_type": "stream",
     "text": [
      "('closed or not:', False)\n",
      "('mode:', 'r')\n"
     ]
    }
   ],
   "source": [
    "file_ob = open('abc.py')\n",
    "print(\"closed or not:\",file_ob.closed);\n",
    "print(\"mode:\",file_ob.mode)"
   ]
  },
  {
   "cell_type": "code",
   "execution_count": 14,
   "metadata": {},
   "outputs": [],
   "source": [
    "file_ob.close()\n"
   ]
  },
  {
   "cell_type": "code",
   "execution_count": 15,
   "metadata": {},
   "outputs": [
    {
     "name": "stdout",
     "output_type": "stream",
     "text": [
      "('closed or not:', True)\n"
     ]
    }
   ],
   "source": [
    "print(\"closed or not:\",file_ob.closed)"
   ]
  },
  {
   "cell_type": "code",
   "execution_count": 16,
   "metadata": {},
   "outputs": [],
   "source": [
    "fo = open('foo.py','wb')\n",
    "fo.write(\"This is my first file creation code.\\nThis is awesome.\\n\")\n",
    "fo.close()"
   ]
  },
  {
   "cell_type": "code",
   "execution_count": 17,
   "metadata": {},
   "outputs": [
    {
     "name": "stdout",
     "output_type": "stream",
     "text": [
      "('String read is: ', 'This is my')\n"
     ]
    }
   ],
   "source": [
    "fo = open('foo.py','r+')\n",
    "str = fo.read(10);\n",
    "print(\"String read is: \",str)\n",
    "fo.close()"
   ]
  },
  {
   "cell_type": "code",
   "execution_count": 19,
   "metadata": {},
   "outputs": [
    {
     "name": "stdout",
     "output_type": "stream",
     "text": [
      "('First Read:', 'This is my')\n",
      "('current position is :', 8L)\n",
      "('Print again:', 'This is my')\n"
     ]
    }
   ],
   "source": [
    "fo=open('foo.py','r+')\n",
    "str=fo.read(10)\n",
    "print(\"First Read:\",str)\n",
    "\n",
    "#current position \n",
    "position = fo.tell()\n",
    "print(\"current position is :\",position)\n",
    "\n",
    "new = fo.seek(0,0)\n",
    "str = fo.read(10)\n",
    "print(\"Print again:\", str)"
   ]
  },
  {
   "cell_type": "code",
   "execution_count": 21,
   "metadata": {},
   "outputs": [
    {
     "name": "stdout",
     "output_type": "stream",
     "text": [
      "('Read string is:', '')\n"
     ]
    }
   ],
   "source": [
    "new_po = fo.seek(2,2)\n",
    "str= fo.read(10)\n",
    "print(\"Read string is:\", str)"
   ]
  },
  {
   "cell_type": "code",
   "execution_count": 22,
   "metadata": {},
   "outputs": [
    {
     "name": "stdout",
     "output_type": "stream",
     "text": [
      "('news string is:', 'is is my f')\n"
     ]
    }
   ],
   "source": [
    "new_po= fo.seek(2,0)\n",
    "str= fo.read(10)\n",
    "print(\"news string is:\",str)"
   ]
  },
  {
   "cell_type": "code",
   "execution_count": 23,
   "metadata": {},
   "outputs": [],
   "source": [
    "import os\n"
   ]
  },
  {
   "cell_type": "code",
   "execution_count": 25,
   "metadata": {},
   "outputs": [],
   "source": [
    "fo.close()\n",
    "os.rename('foo.py','new_foo.py')"
   ]
  },
  {
   "cell_type": "code",
   "execution_count": 28,
   "metadata": {},
   "outputs": [
    {
     "name": "stdout",
     "output_type": "stream",
     "text": [
      "('read string:', 'This is my first file creation code.\\nThis is awesome.\\n')\n"
     ]
    }
   ],
   "source": [
    "fo = open('new_foo.py','r+')\n",
    "str = fo.read(70)\n",
    "print(\"read string:\",str)"
   ]
  },
  {
   "cell_type": "code",
   "execution_count": 29,
   "metadata": {},
   "outputs": [
    {
     "name": "stdout",
     "output_type": "stream",
     "text": [
      "('the current position is:', 54L)\n"
     ]
    }
   ],
   "source": [
    "print(\"the current position is:\", fo.tell())"
   ]
  },
  {
   "cell_type": "code",
   "execution_count": 30,
   "metadata": {},
   "outputs": [
    {
     "name": "stdout",
     "output_type": "stream",
     "text": [
      "('str is :', '')\n"
     ]
    }
   ],
   "source": [
    "po = fo.seek(4,2)\n",
    "str = fo.read(50)\n",
    "print(\"str is :\",str)"
   ]
  },
  {
   "cell_type": "code",
   "execution_count": 31,
   "metadata": {},
   "outputs": [
    {
     "name": "stdout",
     "output_type": "stream",
     "text": [
      "('string is:', '')\n"
     ]
    }
   ],
   "source": [
    "str = fo.read(50)\n",
    "print(\"string is:\",str)"
   ]
  },
  {
   "cell_type": "code",
   "execution_count": 32,
   "metadata": {},
   "outputs": [
    {
     "name": "stdout",
     "output_type": "stream",
     "text": [
      "('string is:', 'This is my')\n"
     ]
    }
   ],
   "source": [
    "po = fo.seek(0,0)\n",
    "str= fo.read(10)\n",
    "print(\"string is:\",str)"
   ]
  },
  {
   "cell_type": "code",
   "execution_count": 33,
   "metadata": {},
   "outputs": [
    {
     "name": "stdout",
     "output_type": "stream",
     "text": [
      "('current position is :', 8L)\n"
     ]
    }
   ],
   "source": [
    "print(\"current position is :\",fo.tell())"
   ]
  },
  {
   "cell_type": "code",
   "execution_count": 34,
   "metadata": {},
   "outputs": [
    {
     "name": "stdout",
     "output_type": "stream",
     "text": [
      "('string from here is:', 'first file creation ')\n"
     ]
    }
   ],
   "source": [
    "d = fo.seek(3,1)\n",
    "str = fo.read(20)\n",
    "print(\"string from here is:\",str)"
   ]
  },
  {
   "cell_type": "code",
   "execution_count": 35,
   "metadata": {},
   "outputs": [],
   "source": [
    "fo.close()"
   ]
  },
  {
   "cell_type": "code",
   "execution_count": 37,
   "metadata": {},
   "outputs": [],
   "source": [
    "fo=open(\"new_foo.py\",'w+')"
   ]
  },
  {
   "cell_type": "code",
   "execution_count": 38,
   "metadata": {},
   "outputs": [],
   "source": [
    "fo.write(\"This is continuation of writing in existin file.\")"
   ]
  },
  {
   "cell_type": "code",
   "execution_count": 39,
   "metadata": {},
   "outputs": [
    {
     "name": "stdout",
     "output_type": "stream",
     "text": [
      "('string:', 'some.\\nloat\\n        minimal position of the slider\\n    max : float\\n        maximal position of the slider\\n    step : float\\n        step of the trackbar\\n    description : str\\n        name of the slider\\n    orientation : {\\'horizontal\\', \\'vertical\\'}\\n        default is \\'horizontal\\'\\n    readout : {True, False}\\n        default is True, display the current value of the slider next to it\\n    readout_format : str\\n        default is \\'.2f\\', specifier for the format function used to represent\\n        slider value for human consumption, modeled after Python 3\\'s format\\n        specification mini-language (PEP 3101).\\n    t\\x14\\x00\\x00\\x00FloatRangeSliderViewR\\x14\\x00\\x00\\x00t\\x15\\x00\\x00\\x00FloatRangeSliderModelg\\x9a\\x99\\x99\\x99\\x99\\x99\\xb9?R\\x13\\x00\\x00\\x00s#\\x00\\x00\\x00Minimum step to increment the valueR6\\x00\\x00\\x00R7\\x00\\x00\\x00R8\\x00\\x00\\x00R9\\x00\\x00\\x00s\\x17\\x00\\x00\\x00Vertical or horizontal.s3\\x00\\x00\\x00Display the current value of the slider next to it.s\\x03\\x00\\x00\\x00.2fs\\x16\\x00\\x00\\x00Format for the readoutsA\\x00\\x00\\x00Update the value of the widget as the user is sliding the slider.s\\x1e\\x00\\x00\\x00Enable or disable user changes(\\x17\\x00\\x00\\x00R\\x1b\\x00\\x00\\x00R\\x1c\\x00\\x00\\x00R*\\x00\\x00\\x00R\\x01\\x00\\x00\\x00R\\x1d\\x00\\x00\\x00R\\x1e\\x00\\x00\\x00R+\\x00\\x00\\x00R,\\x00\\x00\\x00R\\x02\\x00\\x00\\x00R0\\x00\\x00\\x00R\\x04\\x00\\x00\\x00R:\\x00\\x00\\x00R\\x03\\x00\\x00\\x00R;\\x00\\x00\\x00R\\x0b\\x00\\x00\\x00R<\\x00\\x00\\x00R/\\x00\\x00\\x00R-\\x00\\x00\\x00R.\\x00\\x00\\x00R\\n\\x00\\x00\\x00R\\x11\\x00\\x00\\x00R\\x0e\\x00\\x00\\x00R=\\x00\\x00\\x00(\\x00\\x00\\x00\\x00(\\x00\\x00\\x00\\x00(\\x00\\x00\\x00\\x00s^\\x00\\x00\\x00c:\\\\users\\\\sim\\\\appdata\\\\local\\\\temp\\\\pip-build-qulpyk\\\\ipywidgets\\\\ipywidgets\\\\widgets\\\\widget_float.pyRS\\x00\\x00\\x00\\xf3\\x00\\x00\\x00s\\x18\\x00\\x00\\x00\\x06\\x18\\x06\\x01\\x18\\x01\\x18\\x01\\x1e\\x01\\x12\\x01\\x1b\\x01\\x1e\\x01\\x03\\x01\\x1b\\x01\\x1e\\x01\\x1e\\x02N(#\\x00\\x00\\x00R*\\x00\\x00\\x00t\\t\\x00\\x00\\x00traitletsR\\x00\\x00\\x00\\x00R\\x01\\x00\\x00\\x00R\\x02\\x00\\x00\\x00R\\x03\\x00\\x00\\x00R\\x04\\x00\\x00\\x00R\\x05\\x00\\x00\\x00R\\x06\\x00\\x00\\x00R\\x07\\x00\\x00\\x00R\\x08\\x00\\x00\\x00t\\x12\\x00\\x00\\x00widget_descriptionR\\t\\x00\\x00\\x00t\\x0b\\x00\\x00\\x00trait_typesR\\n\\x00\\x00\\x00R\\x0b\\x00\\x00\\x00t\\x0b\\x00\\x00\\x00valuewidgetR\\x0c\\x00\\x00\\x00t\\x06\\x00\\x00\\x00widgetR\\r\\x00\\x00\\x00R\\x0e\\x00\\x00\\x00t\\x0b\\x00\\x00\\x00widget_coreR\\x0f\\x00\\x00\\x00t\\n\\x00\\x00\\x00widget_intR\\x10\\x00\\x00\\x00R\\x11\\x00\\x00\\x00R\\x12\\x00\\x00\\x00R\\x1f\\x00\\x00\\x00R&\\x00\\x00\\x00R1\\x00\\x00\\x00R3\\x00\\x00\\x00R>\\x00\\x00\\x00RG\\x00\\x00\\x00RL\\x00\\x00\\x00RS\\x00\\x00\\x00(\\x00\\x00\\x00\\x00(\\x00\\x00\\x00\\x00(\\x00\\x00\\x00\\x00s^\\x00\\x00\\x00c:\\\\users\\\\sim\\\\appdata\\\\local\\\\temp\\\\pip-build-qulpyk\\\\ipywidgets\\\\ipywidgets\\\\widgets\\\\widget_float.pyt\\x08\\x00\\x00\\x00<module>\\x04\\x00\\x00\\x00s*\\x00\\x00\\x00\\x06\\x05@\\x03\\x10\\x01\\x16\\x01\\x10\\x01\\x16\\x01\\x10\\x01\\x16\\x03\\x1c\\t\\x16!\\x06\\x01\\x16\\x14\\x06\\x01\\x16\\x18\\x06\\x01\\x16\\'\\x06\\x01\\x16 \\x16\\x1c\\x16\"\\x06\\x01\\x00\\x00\\x00|\\x01\\x00d\\x01\\x00\\x19}\\x02\\x00|\\x00\\x00j\\x00\\x00|\\x02\\x00k\\x04\\x00s(\\x00|\\x00\\x00j\\x01\\x00|\\x02\\x00k\\x00\\x00rI\\x00t\\x00\\x00t\\x01\\x00|\\x02\\x00|\\x00\\x00j\\x00\\x00\\x83\\x02\\x00|\\x00\\x00j\\x01\\x00\\x83\\x02\\x00}\\x02\\x00n\\x00\\x00|\\x02\\x00S(\\x02\\x00\\x00\\x00s\\x13\\x00\\x00\\x00Cap and floor valueR\\x15\\x00\\x00\\x00(\\x02\\x00\\x00\\x00t\\x03\\x00\\x00\\x00mint\\x03\\x00\\x00\\x00max(\\x03\\x00\\x00\\x00R\\x19\\x00\\x00\\x00t\\x08\\x00\\x00\\x00proposalR\\x15\\x00\\x00\\x00(\\x00\\x00\\x00\\x00(\\x00\\x00\\x00\\x00s^\\x00\\x00\\x00c:\\\\users\\\\sim\\\\appdata\\\\local\\\\temp\\\\pip-build-qulpyk\\\\ipywidgets\\\\ipywidgets\\\\widgets\\\\widget_float.pyt\\x0f\\x00\\x00\\x00_validate_value!\\x00\\x00\\x00s\\x08\\x00\\x00\\x00\\x00\\x03\\n\\x01\\x1e\\x01!\\x01R \\x00\\x00\\x00c\\x02\\x00\\x00\\x00\\x03\\x00\\x00\\x00\\x02\\x00\\x00\\x00C\\x00\\x00\\x00sG\\x00\\x00\\x00|\\x01\\x00d\\x01\\x00\\x19}\\x02\\x00|\\x02\\x00|\\x00\\x00j\\x00\\x00k\\x04\\x00r(\\x00t\\x01\\x00d\\x02\\x00\\x83\\x01\\x00\\x82\\x01\\x00n\\x00\\x00|\\x02\\x00|\\x00\\x00j\\x02\\x00k\\x04\\x00rC\\x00|\\x02\\x00|\\x00\\x00_\\x02\\x00n\\x00\\x00|\\x02\\x00S(\\x03\\x00\\x00\\x00s\\x1b\\x00\\x00\\x00Enforce min <= value <= maxR\\x15\\x00\\x00\\x00s\\x11\\x00\\x00\\x00Setting min > max(\\x03\\x00\\x00\\x00R!\\x00\\x00\\x00R\\x06\\x00\\x00\\x00R\\x15\\x00\\x00\\x00(\\x03\\x00\\x00\\x00R\\x19\\x00\\x00\\x00R\"\\x00\\x00\\x00R \\x00\\x00\\x00(\\x00\\x00\\x00\\x00(\\x00\\x00\\x00\\x00s^\\x00\\x00\\x00c:\\\\users\\\\sim\\\\appdata\\\\local\\\\temp\\\\pip-build-qulpyk\\\\ipywidgets\\\\ipywidgets\\\\widgets\\\\widget_float.pyt\\r\\x00\\x00\\x00_validate_min)\\x00\\x00\\x00s\\x0c\\x00\\x00\\x00\\x00\\x03\\n\\x01\\x0f\\x01\\x0f\\x01\\x0f\\x01\\x0c\\x01R!\\x00\\x00\\x00c\\x02\\x00\\x00\\x00\\x03\\x00\\x00\\x00\\x02\\x00\\x00\\x00C\\x00\\x00\\x00sG\\x00\\x00\\x00|\\x01\\x00d\\x01\\x00\\x19}\\x02\\x00|\\x02\\x00|\\x00\\x00j\\x00\\x00k\\x00\\x00r(\\x00t\\x01\\x00d\\x02\\x00\\x83\\x01\\x00\\x82\\x01\\x00n\\x00\\x00|\\x02\\x00|\\x00\\x00j\\x02\\x00k\\x00\\x00rC\\x00|\\x02\\x00|\\x00\\x00_\\x02\\x00n\\x00\\x00|\\x02\\x00S(\\x03\\x00\\x00\\x00s\\x1b\\x00\\x00\\x00Enforce min <= value <= maxR\\x15\\x00\\x00\\x00s\\x11\\x00\\x00\\x00setting max < min(\\x03\\x00\\x00\\x00R \\x00\\x00\\x00R\\x06\\x00\\x00\\x00R\\x15\\x00\\x00\\x00(\\x03\\x00\\x00\\x00R\\x19\\x00\\x00\\x00R\"\\x00\\x00\\x00R!\\x00\\x00\\x00(\\x00\\x00\\x00\\x00(\\x00\\x00\\x00\\x00s^\\x00\\x00\\x00c:\\\\users\\\\sim\\\\appdata\\\\local\\\\temp\\\\pip-build-qulpyk\\\\ipywidgets\\\\ipywidgets\\\\widgets\\\\widget_float.pyt\\r\\x00\\x00\\x00_validate_max3\\x00\\x00\\x00s\\x0c\\x00\\x00\\x00\\x00\\x03\\n\\x01\\x0f\\x01\\x0f\\x01\\x0f\\x01\\x0c\\x01(\\x0b\\x00\\x00\\x00R\\x1b\\x00\\x00\\x00R\\x1c\\x00\\x00\\x00R\\x02\\x00\\x00\\x00R\\x1d\\x00\\x00\\x00R\\x1e\\x00\\x00\\x00R!\\x00\\x00\\x00R \\x00\\x00\\x00R\\x07\\x00\\x00\\x00R#\\x00\\x00\\x00R$\\x00\\x00\\x00R%\\x00\\x00\\x00(\\x00\\x00\\x00\\x00(\\x00\\x00\\x00\\x00(\\x00\\x00\\x00\\x00s^\\x00\\x00\\x00c:\\\\users\\\\sim\\\\appdata\\\\local\\\\temp\\\\pip-build-qulpyk\\\\ipywidgets\\\\ipywidgets\\\\widgets\\\\widget_float.pyR\\x1f\\x00\\x00\\x00\\x1d\\x00\\x00\\x00s\\n\\x00\\x00\\x00\\x06\\x01\\x1e\\x01\\x1e\\x02\\x15\\x08\\x15\\nt\\t\\x00\\x00\\x00FloatTextc\\x00\\x00\\x00\\x00\\x00\\x00\\x00\\x00\\x06\\x00\\x00\\x00B\\x00\\x00\\x00s\\x9e\\x00\\x00\\x00e\\x00\\x00Z\\x01\\x00d\\x00\\x00Z\\x02\\x00e\\x03\\x00d\\x01\\x00\\x83\\x01\\x00j\\x04\\x00d\\x02\\x00e\\x05\\x00\\x83\\x00\\x01Z\\x06\\x00e\\x03\\x00d\\x03\\x00\\x83\\x01\\x00j\\x04\\x00d\\x02\\x00e\\x05\\x00\\x83\\x00\\x01Z\\x07\\x00e\\x08\\x00e\\t\\x00d\\x04\\x00d\\x05\\x00\\x83\\x01\\x01j\\x04\\x00d\\x02\\x00e\\x05\\x00\\x83\\x00\\x01Z\\n\\x00e\\x08\\x00e\\t\\x00d\\x04\\x00d\\x06\\x00\\x83\\x01\\x01j\\x04\\x00d\\x02\\x00e\\x05\\x00\\x83\\x00\\x01Z\\x0b\\x00e\\x0c\\x00d\\t\\x00d\\x07\\x00e\\x05\\x00d\\x04\\x00d\\x08\\x00\\x83\\x01\\x02j\\x04\\x00d\\x02\\x00e\\x05\\x00\\x83\\x00\\x01Z\\x0e\\x00RS(\\n\\x00\\x00\\x00sj\\x01\\x00\\x00 Displays a float value within a textbox. For a textbox in\\n    which the value must be within a specific range, use BoundedFloatText.\\n\\n    Parameters\\n    ----------\\n    value : float\\n        value displayed\\n    step : float\\n        step of the increment (if None, any step is allowed)\\n    description : str\\n        description displayed next to the text box\\n    t\\r\\x00\\x00\\x00FloatTextViewR\\x14\\x00\\x00\\x00t\\x0e\\x00\\x00\\x00FloatTextModelR\\x13\\x00\\x00\\x00s\\x1e\\x00\\x00\\x00Enable or disable user changessl\\x00\\x00\\x00Update the value as the user types. If False, update on submission, e.g., pressing Enter or navigating away.t\\n\\x00\\x00\\x00allow_nones#\\x00\\x00\\x00Minimum step to increment the valueN(\\x0f\\x00\\x00\\x00R\\x1b\\x00\\x00\\x00R\\x1c\\x00\\x00\\x00t\\x07\\x00\\x00\\x00__doc__R\\x01\\x00\\x00\\x00R\\x1d\\x00\\x00\\x00R\\x1e\\x00\\x00\\x00t\\n\\x00\\x00\\x00_view_namet\\x0b\\x00\\x00\\x00_model_nameR\\x03\\x00\\x00\\x00t\\x05\\x00\\x00\\x00Falset\\x08\\x00\\x00\\x00disabledt\\x11\\x00\\x00\\x00continuous_updateR\\x02\\x00\\x00\\x00R\\x16\\x00\\x00\\x00t\\x04\\x00\\x00\\x00step(\\x00\\x00\\x00\\x00(\\x00\\x00\\x00\\x00(\\x00\\x00\\x00\\x00s^\\x00\\x00\\x00c:\\\\users\\\\sim\\\\appdata\\\\local\\\\temp\\\\pip-build-qulpyk\\\\ipywidgets\\\\ipywidgets\\\\widgets\\\\widget_float.pyR&\\x00\\x00\\x00>\\x00\\x00\\x00s\\x0c\\x00\\x00\\x00\\x06\\r\\x06\\x01\\x18\\x01\\x18\\x01\\x1e\\x01\\x1e\\x01t\\x10\\x00\\x00\\x00BoundedFloatTextc\\x00\\x00\\x00\\x00\\x00\\x00\\x00\\x00\\x06\\x00\\x00\\x00B\\x00\\x00\\x00s\\x9e\\x00\\x00\\x00e\\x00\\x00Z\\x01\\x00d\\x00\\x00Z\\x02\\x00e\\x03\\x00d\\x01\\x00\\x83\\x01\\x00j\\x04\\x00d\\x02')\n"
     ]
    }
   ],
   "source": [
    "str = fo.read()\n",
    "print(\"string:\",str)"
   ]
  },
  {
   "cell_type": "code",
   "execution_count": 41,
   "metadata": {},
   "outputs": [
    {
     "ename": "IOError",
     "evalue": "[Errno 0] Error",
     "output_type": "error",
     "traceback": [
      "\u001b[1;31m---------------------------------------------------------------------------\u001b[0m",
      "\u001b[1;31mIOError\u001b[0m                                   Traceback (most recent call last)",
      "\u001b[1;32m<ipython-input-41-a1cf7896333b>\u001b[0m in \u001b[0;36m<module>\u001b[1;34m()\u001b[0m\n\u001b[1;32m----> 1\u001b[1;33m \u001b[0mstr\u001b[0m \u001b[1;33m=\u001b[0m \u001b[0mfo\u001b[0m\u001b[1;33m.\u001b[0m\u001b[0mread\u001b[0m\u001b[1;33m(\u001b[0m\u001b[1;36m90\u001b[0m\u001b[1;33m)\u001b[0m\u001b[1;33m\u001b[0m\u001b[0m\n\u001b[0m\u001b[0;32m      2\u001b[0m \u001b[1;32mprint\u001b[0m\u001b[1;33m(\u001b[0m\u001b[1;34m\"string:\"\u001b[0m\u001b[1;33m,\u001b[0m\u001b[0mstr\u001b[0m\u001b[1;33m)\u001b[0m\u001b[1;33m\u001b[0m\u001b[0m\n",
      "\u001b[1;31mIOError\u001b[0m: [Errno 0] Error"
     ]
    }
   ],
   "source": [
    "str = fo.read(90)\n",
    "print(\"string:\",str)"
   ]
  },
  {
   "cell_type": "code",
   "execution_count": 45,
   "metadata": {},
   "outputs": [],
   "source": [
    "fo.close()"
   ]
  },
  {
   "cell_type": "raw",
   "metadata": {},
   "source": [
    "fo =open('new_foo.py','r+')"
   ]
  },
  {
   "cell_type": "code",
   "execution_count": 46,
   "metadata": {},
   "outputs": [
    {
     "ename": "ValueError",
     "evalue": "I/O operation on closed file",
     "output_type": "error",
     "traceback": [
      "\u001b[1;31m---------------------------------------------------------------------------\u001b[0m",
      "\u001b[1;31mValueError\u001b[0m                                Traceback (most recent call last)",
      "\u001b[1;32m<ipython-input-46-365ef029a128>\u001b[0m in \u001b[0;36m<module>\u001b[1;34m()\u001b[0m\n\u001b[1;32m----> 1\u001b[1;33m \u001b[0mstr\u001b[0m \u001b[1;33m=\u001b[0m \u001b[0mfo\u001b[0m\u001b[1;33m.\u001b[0m\u001b[0mread\u001b[0m\u001b[1;33m(\u001b[0m\u001b[1;36m50\u001b[0m\u001b[1;33m)\u001b[0m\u001b[1;33m\u001b[0m\u001b[0m\n\u001b[0m\u001b[0;32m      2\u001b[0m \u001b[1;32mprint\u001b[0m\u001b[1;33m(\u001b[0m\u001b[1;34m\"string:\"\u001b[0m\u001b[1;33m,\u001b[0m\u001b[0mstr\u001b[0m\u001b[1;33m)\u001b[0m\u001b[1;33m\u001b[0m\u001b[0m\n\u001b[0;32m      3\u001b[0m \u001b[0mfo\u001b[0m\u001b[1;33m.\u001b[0m\u001b[0mclose\u001b[0m\u001b[1;33m(\u001b[0m\u001b[1;33m)\u001b[0m\u001b[1;33m\u001b[0m\u001b[0m\n",
      "\u001b[1;31mValueError\u001b[0m: I/O operation on closed file"
     ]
    }
   ],
   "source": [
    "str = fo.read(50)\n",
    "print(\"string:\",str)\n",
    "fo.close()"
   ]
  },
  {
   "cell_type": "code",
   "execution_count": 48,
   "metadata": {},
   "outputs": [],
   "source": [
    "boo =  open('new_file.py','w')"
   ]
  },
  {
   "cell_type": "code",
   "execution_count": 49,
   "metadata": {},
   "outputs": [],
   "source": [
    "boo.write(\"This is new file.\")"
   ]
  },
  {
   "cell_type": "raw",
   "metadata": {},
   "source": [
    "print('string:',boo.read(10))"
   ]
  },
  {
   "cell_type": "code",
   "execution_count": 51,
   "metadata": {},
   "outputs": [
    {
     "name": "stdout",
     "output_type": "stream",
     "text": [
      "('closed:', False)\n"
     ]
    }
   ],
   "source": [
    "print('closed:',boo.closed)"
   ]
  },
  {
   "cell_type": "code",
   "execution_count": 54,
   "metadata": {},
   "outputs": [
    {
     "name": "stdout",
     "output_type": "stream",
     "text": [
      "('closed:', True)\n"
     ]
    }
   ],
   "source": [
    "print('closed:',boo.closed)"
   ]
  },
  {
   "cell_type": "code",
   "execution_count": 53,
   "metadata": {},
   "outputs": [],
   "source": [
    "boo.close()"
   ]
  },
  {
   "cell_type": "code",
   "execution_count": 55,
   "metadata": {},
   "outputs": [],
   "source": [
    "boo = open('new_file.py','a+')"
   ]
  },
  {
   "cell_type": "code",
   "execution_count": 56,
   "metadata": {},
   "outputs": [],
   "source": [
    "boo.write(\"This is amazing!\")"
   ]
  },
  {
   "cell_type": "code",
   "execution_count": 57,
   "metadata": {},
   "outputs": [
    {
     "name": "stdout",
     "output_type": "stream",
     "text": [
      "('The whole string is:', 'ion code.\\nThis is awesome.\\ns awesome.\\nse):\\n        \"\"\"Get a code string from history, file, url, or ')\n"
     ]
    }
   ],
   "source": [
    "print(\"The whole string is:\",boo.read(100))"
   ]
  },
  {
   "cell_type": "code",
   "execution_count": 58,
   "metadata": {},
   "outputs": [],
   "source": [
    "boo.close()"
   ]
  },
  {
   "cell_type": "code",
   "execution_count": 59,
   "metadata": {},
   "outputs": [],
   "source": [
    "os.remove('new_file.py')"
   ]
  },
  {
   "cell_type": "code",
   "execution_count": 60,
   "metadata": {},
   "outputs": [],
   "source": [
    "os.mkdir(\"smriti\")"
   ]
  },
  {
   "cell_type": "code",
   "execution_count": 61,
   "metadata": {},
   "outputs": [
    {
     "data": {
      "text/plain": [
       "'C:\\\\Users\\\\sim\\\\Miniconda2'"
      ]
     },
     "execution_count": 61,
     "metadata": {},
     "output_type": "execute_result"
    }
   ],
   "source": [
    "os.getcwd()"
   ]
  },
  {
   "cell_type": "code",
   "execution_count": 62,
   "metadata": {},
   "outputs": [
    {
     "ename": "WindowsError",
     "evalue": "[Error 2] The system cannot find the file specified: '/smriti'",
     "output_type": "error",
     "traceback": [
      "\u001b[1;31m---------------------------------------------------------------------------\u001b[0m",
      "\u001b[1;31mWindowsError\u001b[0m                              Traceback (most recent call last)",
      "\u001b[1;32m<ipython-input-62-09323af29e3d>\u001b[0m in \u001b[0;36m<module>\u001b[1;34m()\u001b[0m\n\u001b[1;32m----> 1\u001b[1;33m \u001b[0mos\u001b[0m\u001b[1;33m.\u001b[0m\u001b[0mchdir\u001b[0m\u001b[1;33m(\u001b[0m\u001b[1;34m'/smriti'\u001b[0m\u001b[1;33m)\u001b[0m\u001b[1;33m\u001b[0m\u001b[0m\n\u001b[0m",
      "\u001b[1;31mWindowsError\u001b[0m: [Error 2] The system cannot find the file specified: '/smriti'"
     ]
    }
   ],
   "source": [
    "os.chdir('/smriti')"
   ]
  },
  {
   "cell_type": "code",
   "execution_count": 63,
   "metadata": {},
   "outputs": [],
   "source": [
    "os.rmdir(\"smriti\")"
   ]
  },
  {
   "cell_type": "code",
   "execution_count": 64,
   "metadata": {},
   "outputs": [],
   "source": [
    "os.mkdir(\"smriti\")"
   ]
  },
  {
   "cell_type": "code",
   "execution_count": 65,
   "metadata": {},
   "outputs": [
    {
     "data": {
      "text/plain": [
       "'C:\\\\Users\\\\sim\\\\Miniconda2'"
      ]
     },
     "execution_count": 65,
     "metadata": {},
     "output_type": "execute_result"
    }
   ],
   "source": [
    "os.getcwd()"
   ]
  },
  {
   "cell_type": "code",
   "execution_count": 67,
   "metadata": {},
   "outputs": [],
   "source": [
    "os.chdir(\"C:\\\\Users\\\\sim\\\\Miniconda2\\\\smriti\")"
   ]
  },
  {
   "cell_type": "code",
   "execution_count": 68,
   "metadata": {},
   "outputs": [
    {
     "data": {
      "text/plain": [
       "'C:\\\\Users\\\\sim\\\\Miniconda2\\\\smriti'"
      ]
     },
     "execution_count": 68,
     "metadata": {},
     "output_type": "execute_result"
    }
   ],
   "source": [
    "os.getcwd()"
   ]
  },
  {
   "cell_type": "code",
   "execution_count": 69,
   "metadata": {},
   "outputs": [],
   "source": [
    "os.chdir('C:\\\\Users\\\\sim\\\\Miniconda2')"
   ]
  },
  {
   "cell_type": "code",
   "execution_count": 70,
   "metadata": {},
   "outputs": [
    {
     "data": {
      "text/plain": [
       "'C:\\\\Users\\\\sim\\\\Miniconda2'"
      ]
     },
     "execution_count": 70,
     "metadata": {},
     "output_type": "execute_result"
    }
   ],
   "source": [
    "os.getcwd()"
   ]
  },
  {
   "cell_type": "code",
   "execution_count": 1,
   "metadata": {},
   "outputs": [
    {
     "ename": "ImportError",
     "evalue": "No module named mysqldb",
     "output_type": "error",
     "traceback": [
      "\u001b[1;31m---------------------------------------------------------------------------\u001b[0m",
      "\u001b[1;31mImportError\u001b[0m                               Traceback (most recent call last)",
      "\u001b[1;32m<ipython-input-1-075672422733>\u001b[0m in \u001b[0;36m<module>\u001b[1;34m()\u001b[0m\n\u001b[1;32m----> 1\u001b[1;33m \u001b[1;32mimport\u001b[0m \u001b[0mmysqldb\u001b[0m\u001b[1;33m\u001b[0m\u001b[0m\n\u001b[0m",
      "\u001b[1;31mImportError\u001b[0m: No module named mysqldb"
     ]
    }
   ],
   "source": [
    "import mysqldb"
   ]
  },
  {
   "cell_type": "code",
   "execution_count": 4,
   "metadata": {},
   "outputs": [
    {
     "ename": "ImportError",
     "evalue": "DLL load failed: %1 is not a valid Win32 application.",
     "output_type": "error",
     "traceback": [
      "\u001b[1;31m---------------------------------------------------------------------------\u001b[0m",
      "\u001b[1;31mImportError\u001b[0m                               Traceback (most recent call last)",
      "\u001b[1;32m<ipython-input-4-1ca246cdd999>\u001b[0m in \u001b[0;36m<module>\u001b[1;34m()\u001b[0m\n\u001b[1;32m----> 1\u001b[1;33m \u001b[1;32mimport\u001b[0m \u001b[0mMySQLdb\u001b[0m\u001b[1;33m\u001b[0m\u001b[0m\n\u001b[0m",
      "\u001b[1;32mc:\\users\\sim\\miniconda2\\lib\\site-packages\\MySQLdb\\__init__.py\u001b[0m in \u001b[0;36m<module>\u001b[1;34m()\u001b[0m\n\u001b[0;32m     17\u001b[0m \u001b[1;32mfrom\u001b[0m \u001b[0mrelease\u001b[0m \u001b[1;32mimport\u001b[0m \u001b[0m__version__\u001b[0m\u001b[1;33m,\u001b[0m \u001b[0mversion_info\u001b[0m\u001b[1;33m,\u001b[0m \u001b[0m__author__\u001b[0m\u001b[1;33m\u001b[0m\u001b[0m\n\u001b[0;32m     18\u001b[0m \u001b[1;33m\u001b[0m\u001b[0m\n\u001b[1;32m---> 19\u001b[1;33m \u001b[1;32mimport\u001b[0m \u001b[0m_mysql\u001b[0m\u001b[1;33m\u001b[0m\u001b[0m\n\u001b[0m\u001b[0;32m     20\u001b[0m \u001b[1;33m\u001b[0m\u001b[0m\n\u001b[0;32m     21\u001b[0m \u001b[1;32mif\u001b[0m \u001b[0mversion_info\u001b[0m \u001b[1;33m!=\u001b[0m \u001b[0m_mysql\u001b[0m\u001b[1;33m.\u001b[0m\u001b[0mversion_info\u001b[0m\u001b[1;33m:\u001b[0m\u001b[1;33m\u001b[0m\u001b[0m\n",
      "\u001b[1;31mImportError\u001b[0m: DLL load failed: %1 is not a valid Win32 application."
     ]
    }
   ],
   "source": [
    "import MySQLdb"
   ]
  },
  {
   "cell_type": "code",
   "execution_count": 3,
   "metadata": {},
   "outputs": [
    {
     "ename": "ImportError",
     "evalue": "No module named mysql",
     "output_type": "error",
     "traceback": [
      "\u001b[1;31m---------------------------------------------------------------------------\u001b[0m",
      "\u001b[1;31mImportError\u001b[0m                               Traceback (most recent call last)",
      "\u001b[1;32m<ipython-input-3-48e1173e184e>\u001b[0m in \u001b[0;36m<module>\u001b[1;34m()\u001b[0m\n\u001b[1;32m----> 1\u001b[1;33m \u001b[1;32mimport\u001b[0m \u001b[0mmysql\u001b[0m\u001b[1;33m\u001b[0m\u001b[0m\n\u001b[0m",
      "\u001b[1;31mImportError\u001b[0m: No module named mysql"
     ]
    }
   ],
   "source": [
    "import mysql"
   ]
  },
  {
   "cell_type": "code",
   "execution_count": null,
   "metadata": {},
   "outputs": [],
   "source": []
  }
 ],
 "metadata": {
  "kernelspec": {
   "display_name": "Python 2",
   "language": "python",
   "name": "python2"
  },
  "language_info": {
   "codemirror_mode": {
    "name": "ipython",
    "version": 2
   },
   "file_extension": ".py",
   "mimetype": "text/x-python",
   "name": "python",
   "nbconvert_exporter": "python",
   "pygments_lexer": "ipython2",
   "version": "2.7.14"
  }
 },
 "nbformat": 4,
 "nbformat_minor": 2
}

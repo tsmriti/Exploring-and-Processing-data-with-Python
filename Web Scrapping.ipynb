{
 "cells": [
  {
   "cell_type": "code",
   "execution_count": 1,
   "metadata": {},
   "outputs": [],
   "source": [
    "#import requests package\n",
    "import requests \n",
    "\n",
    "#save a url in a variable\n",
    "url = 'https://assets.digitalocean.com/articles/eng_python/beautiful-soup/mockturtle.html'\n",
    "html_page = requests.get(url) #get to the html page using get method of requests package\n",
    "\n",
    "#import BeautifulSoup\n",
    "from bs4 import BeautifulSoup\n",
    "\n",
    "#BeautifulSoup offers html parser to make the html content readable\n",
    "html_content = BeautifulSoup(html_page.text,'html.parser')"
   ]
  },
  {
   "cell_type": "code",
   "execution_count": 22,
   "metadata": {},
   "outputs": [
    {
     "name": "stdout",
     "output_type": "stream",
     "text": [
      "<!DOCTYPE html PUBLIC \"-//W3C//DTD XHTML 1.0 Strict//EN\"\n",
      "    \"http://www.w3.org/TR/xhtml1/DTD/xhtml1-strict.dtd\">\n",
      "<html lang=\"en-US\" xml:lang=\"en-US\" xmlns=\"http://www.w3.org/1999/xhtml\">\n",
      " <head>\n",
      "  <meta content=\"text/html; charset=utf-8\" http-equiv=\"content-type\"/>\n",
      "  <title>\n",
      "   Turtle Soup\n",
      "  </title>\n",
      " </head>\n",
      " <body>\n",
      "  <h1>\n",
      "   Turtle Soup\n",
      "  </h1>\n",
      "  <p class=\"verse\" id=\"first\">\n",
      "   Beautiful Soup, so rich and green,\n",
      "   <br/>\n",
      "   Waiting in a hot tureen!\n",
      "   <br/>\n",
      "   Who for such dainties would not stoop?\n",
      "   <br/>\n",
      "   Soup of the evening, beautiful Soup!\n",
      "   <br/>\n",
      "   Soup of the evening, beautiful Soup!\n",
      "   <br/>\n",
      "  </p>\n",
      "  <p class=\"chorus\" id=\"second\">\n",
      "   Beau--ootiful Soo--oop!\n",
      "   <br/>\n",
      "   Beau--ootiful Soo--oop!\n",
      "   <br/>\n",
      "   Soo--oop of the e--e--evening,\n",
      "   <br/>\n",
      "   Beautiful, beautiful Soup!\n",
      "   <br/>\n",
      "  </p>\n",
      "  <p class=\"verse\" id=\"third\">\n",
      "   Beautiful Soup! Who cares for fish,\n",
      "   <br/>\n",
      "   Game or any other dish?\n",
      "   <br/>\n",
      "   Who would not give all else for two\n",
      "   <br/>\n",
      "   Pennyworth only of Beautiful Soup?\n",
      "   <br/>\n",
      "   Pennyworth only of beautiful Soup?\n",
      "   <br/>\n",
      "  </p>\n",
      "  <p class=\"chorus\" id=\"fourth\">\n",
      "   Beau--ootiful Soo--oop!\n",
      "   <br/>\n",
      "   Beau--ootiful Soo--oop!\n",
      "   <br/>\n",
      "   Soo--oop of the e--e--evening,\n",
      "   <br/>\n",
      "   Beautiful, beauti--FUL SOUP!\n",
      "   <br/>\n",
      "  </p>\n",
      " </body>\n",
      "</html>\n",
      "\n"
     ]
    }
   ],
   "source": [
    "html_content.findAll(name = 'body')\n",
    "print html_content.prettify()"
   ]
  },
  {
   "cell_type": "raw",
   "metadata": {},
   "source": []
  },
  {
   "cell_type": "code",
   "execution_count": 25,
   "metadata": {},
   "outputs": [
    {
     "ename": "AttributeError",
     "evalue": "ResultSet object has no attribute 'tail'. You're probably treating a list of items like a single item. Did you call find_all() when you meant to call find()?",
     "output_type": "error",
     "traceback": [
      "\u001b[1;31m---------------------------------------------------------------------------\u001b[0m",
      "\u001b[1;31mAttributeError\u001b[0m                            Traceback (most recent call last)",
      "\u001b[1;32m<ipython-input-25-931cd13c05cd>\u001b[0m in \u001b[0;36m<module>\u001b[1;34m()\u001b[0m\n\u001b[1;32m----> 1\u001b[1;33m \u001b[1;32mprint\u001b[0m \u001b[0mhtml_content\u001b[0m\u001b[1;33m.\u001b[0m\u001b[0mfindAll\u001b[0m\u001b[1;33m(\u001b[0m\u001b[0mclass_\u001b[0m\u001b[1;33m=\u001b[0m\u001b[1;34m'verse'\u001b[0m\u001b[1;33m,\u001b[0m\u001b[0mid\u001b[0m \u001b[1;33m=\u001b[0m \u001b[1;34m'third'\u001b[0m\u001b[1;33m)\u001b[0m\u001b[1;33m.\u001b[0m\u001b[0mtail\u001b[0m\u001b[1;33m(\u001b[0m\u001b[1;33m)\u001b[0m\u001b[1;33m\u001b[0m\u001b[0m\n\u001b[0m",
      "\u001b[1;32mc:\\users\\sim\\miniconda2\\lib\\site-packages\\bs4\\element.pyc\u001b[0m in \u001b[0;36m__getattr__\u001b[1;34m(self, key)\u001b[0m\n\u001b[0;32m   1805\u001b[0m     \u001b[1;32mdef\u001b[0m \u001b[0m__getattr__\u001b[0m\u001b[1;33m(\u001b[0m\u001b[0mself\u001b[0m\u001b[1;33m,\u001b[0m \u001b[0mkey\u001b[0m\u001b[1;33m)\u001b[0m\u001b[1;33m:\u001b[0m\u001b[1;33m\u001b[0m\u001b[0m\n\u001b[0;32m   1806\u001b[0m         raise AttributeError(\n\u001b[1;32m-> 1807\u001b[1;33m             \u001b[1;34m\"ResultSet object has no attribute '%s'. You're probably treating a list of items like a single item. Did you call find_all() when you meant to call find()?\"\u001b[0m \u001b[1;33m%\u001b[0m \u001b[0mkey\u001b[0m\u001b[1;33m\u001b[0m\u001b[0m\n\u001b[0m\u001b[0;32m   1808\u001b[0m         )\n",
      "\u001b[1;31mAttributeError\u001b[0m: ResultSet object has no attribute 'tail'. You're probably treating a list of items like a single item. Did you call find_all() when you meant to call find()?"
     ]
    }
   ],
   "source": [
    "print html_content.findAll(class_='verse',id = 'third')"
   ]
  },
  {
   "cell_type": "code",
   "execution_count": 26,
   "metadata": {},
   "outputs": [],
   "source": [
    "first_para = html_content.find('p')"
   ]
  },
  {
   "cell_type": "code",
   "execution_count": 27,
   "metadata": {},
   "outputs": [
    {
     "name": "stdout",
     "output_type": "stream",
     "text": [
      "First paragraph: <p class=\"verse\" id=\"first\">Beautiful Soup, so rich and green,<br/>\n",
      "  Waiting in a hot tureen!<br/>\n",
      "  Who for such dainties would not stoop?<br/>\n",
      "  Soup of the evening, beautiful Soup!<br/>\n",
      "  Soup of the evening, beautiful Soup!<br/></p>\n"
     ]
    }
   ],
   "source": [
    "print \"First paragraph:\",first_para"
   ]
  },
  {
   "cell_type": "code",
   "execution_count": 29,
   "metadata": {},
   "outputs": [
    {
     "name": "stdout",
     "output_type": "stream",
     "text": [
      "second para: <p class=\"chorus\" id=\"second\">Beau--ootiful Soo--oop!<br/>\n",
      "  Beau--ootiful Soo--oop!<br/>\n",
      "  Soo--oop of the e--e--evening,<br/>\n",
      "  Beautiful, beautiful Soup!<br/></p>\n"
     ]
    }
   ],
   "source": [
    "print \"second para:\", first_para.find_next_sibling('p')"
   ]
  },
  {
   "cell_type": "code",
   "execution_count": 30,
   "metadata": {},
   "outputs": [
    {
     "name": "stdout",
     "output_type": "stream",
     "text": [
      "\n",
      "Pennyworth\n",
      "Pennyworth\n",
      "Pennyworth\n",
      "PennyworthTurtle SoupPennyworth\n",
      "Pennyworth\n",
      "Pennyworth\n",
      "PennyworthTurtle SoupPennyworth\n",
      "PennyworthBeautiful Soup, so rich and green,Pennyworth\n",
      "  Waiting in a hot tureen!Pennyworth\n",
      "  Who for such dainties would not stoop?Pennyworth\n",
      "  Soup of the evening, beautiful Soup!Pennyworth\n",
      "  Soup of the evening, beautiful Soup!Pennyworth\n",
      "PennyworthBeau--ootiful Soo--oop!Pennyworth\n",
      "  Beau--ootiful Soo--oop!Pennyworth\n",
      "  Soo--oop of the e--e--evening,Pennyworth\n",
      "  Beautiful, beautiful Soup!Pennyworth\n",
      "PennyworthBeautiful Soup! Who cares for fish,Pennyworth\n",
      "  Game or any other dish?Pennyworth\n",
      "  Who would not give all else for twoPennyworth\n",
      "  Pennyworth only of Beautiful Soup?Pennyworth\n",
      "  Pennyworth only of beautiful Soup?Pennyworth\n",
      "PennyworthBeau--ootiful Soo--oop!Pennyworth\n",
      "  Beau--ootiful Soo--oop!Pennyworth\n",
      "  Soo--oop of the e--e--evening,Pennyworth\n",
      "  Beautiful, beauti--FUL SOUP!Pennyworth\n",
      "Pennyworth\n",
      "Pennyworth\n",
      "\n"
     ]
    }
   ],
   "source": [
    "print html_content.get_text('Pennyworth')"
   ]
  },
  {
   "cell_type": "code",
   "execution_count": 75,
   "metadata": {},
   "outputs": [
    {
     "name": "stdout",
     "output_type": "stream",
     "text": [
      "count =  2\n"
     ]
    }
   ],
   "source": [
    "for items in html_content.findAll(class_='verse',id = \"third\"):\n",
    "           count = items.text.count('Pennyworth')\n",
    "           print \"count = \",count\n",
    "           \n",
    "        # print\"Content: \"\n",
    "    #if items.text == 'Pennyworth':\n",
    "     #   print items.text.split()\n",
    "    #else: \n",
    "     #   break\n",
    "for count in html_content.find('br'):\n",
    "    print count.text.strip()\n"
   ]
  },
  {
   "cell_type": "code",
   "execution_count": 78,
   "metadata": {},
   "outputs": [],
   "source": [
    "import os"
   ]
  },
  {
   "cell_type": "code",
   "execution_count": 79,
   "metadata": {},
   "outputs": [
    {
     "data": {
      "text/plain": [
       "'C:\\\\Users\\\\sim\\\\Miniconda2'"
      ]
     },
     "execution_count": 79,
     "metadata": {},
     "output_type": "execute_result"
    }
   ],
   "source": [
    "os.getcwd()"
   ]
  },
  {
   "cell_type": "code",
   "execution_count": 82,
   "metadata": {},
   "outputs": [],
   "source": [
    "os.chdir(\"C:\\\\Users\\\\sim\\\\Miniconda2\\\\titanic\\\\data\\\\raw\")"
   ]
  },
  {
   "cell_type": "code",
   "execution_count": 83,
   "metadata": {},
   "outputs": [
    {
     "data": {
      "text/plain": [
       "'C:\\\\Users\\\\sim\\\\Miniconda2\\\\titanic\\\\data\\\\raw'"
      ]
     },
     "execution_count": 83,
     "metadata": {},
     "output_type": "execute_result"
    }
   ],
   "source": [
    "os.getcwd()"
   ]
  },
  {
   "cell_type": "code",
   "execution_count": 84,
   "metadata": {},
   "outputs": [
    {
     "name": "stdout",
     "output_type": "stream",
     "text": [
      "             Survived  Pclass                     Name   Sex   Age  SibSp  \\\n",
      "PassengerId                                                                 \n",
      "1                   0       3  Braund, Mr. Owen Harris  male  22.0      1   \n",
      "\n",
      "             Parch     Ticket  Fare Cabin Embarked  \n",
      "PassengerId                                         \n",
      "1                0  A/5 21171  7.25   NaN        S  \n"
     ]
    }
   ],
   "source": [
    "import pandas as pd\n",
    "train = pd.read_csv(\"train.csv\",index_col=0)\n",
    "print train.head(1)"
   ]
  },
  {
   "cell_type": "code",
   "execution_count": 85,
   "metadata": {},
   "outputs": [
    {
     "name": "stdout",
     "output_type": "stream",
     "text": [
      "             Pclass              Name   Sex   Age  SibSp  Parch  Ticket  \\\n",
      "PassengerId                                                               \n",
      "892               3  Kelly, Mr. James  male  34.5      0      0  330911   \n",
      "\n",
      "               Fare Cabin Embarked  \n",
      "PassengerId                         \n",
      "892          7.8292   NaN        Q  \n"
     ]
    }
   ],
   "source": [
    "test = pd.read_csv('test.csv',index_col = 0)\n",
    "print test.head(1)"
   ]
  },
  {
   "cell_type": "code",
   "execution_count": 88,
   "metadata": {},
   "outputs": [],
   "source": [
    "test.insert(loc=0,column = 'Survived',value=0)"
   ]
  },
  {
   "cell_type": "code",
   "execution_count": 90,
   "metadata": {},
   "outputs": [
    {
     "name": "stdout",
     "output_type": "stream",
     "text": [
      "             Survived  Pclass  \\\n",
      "PassengerId                     \n",
      "1300                0       3   \n",
      "1301                0       3   \n",
      "1302                0       3   \n",
      "1303                0       1   \n",
      "1304                0       3   \n",
      "1305                0       3   \n",
      "1306                0       1   \n",
      "1307                0       3   \n",
      "1308                0       3   \n",
      "1309                0       3   \n",
      "\n",
      "                                                        Name     Sex   Age  \\\n",
      "PassengerId                                                                  \n",
      "1300                         Riordan, Miss. Johanna Hannah\"\"  female   NaN   \n",
      "1301                               Peacock, Miss. Treasteall  female   3.0   \n",
      "1302                                  Naughton, Miss. Hannah  female   NaN   \n",
      "1303         Minahan, Mrs. William Edward (Lillian E Thorpe)  female  37.0   \n",
      "1304                          Henriksson, Miss. Jenny Lovisa  female  28.0   \n",
      "1305                                      Spector, Mr. Woolf    male   NaN   \n",
      "1306                            Oliva y Ocana, Dona. Fermina  female  39.0   \n",
      "1307                            Saether, Mr. Simon Sivertsen    male  38.5   \n",
      "1308                                     Ware, Mr. Frederick    male   NaN   \n",
      "1309                                Peter, Master. Michael J    male   NaN   \n",
      "\n",
      "             SibSp  Parch              Ticket      Fare Cabin Embarked  \n",
      "PassengerId                                                             \n",
      "1300             0      0              334915    7.7208   NaN        Q  \n",
      "1301             1      1  SOTON/O.Q. 3101315   13.7750   NaN        S  \n",
      "1302             0      0              365237    7.7500   NaN        Q  \n",
      "1303             1      0               19928   90.0000   C78        Q  \n",
      "1304             0      0              347086    7.7750   NaN        S  \n",
      "1305             0      0           A.5. 3236    8.0500   NaN        S  \n",
      "1306             0      0            PC 17758  108.9000  C105        C  \n",
      "1307             0      0  SOTON/O.Q. 3101262    7.2500   NaN        S  \n",
      "1308             0      0              359309    8.0500   NaN        S  \n",
      "1309             1      1                2668   22.3583   NaN        C  \n"
     ]
    }
   ],
   "source": [
    "print test.tail(10)"
   ]
  },
  {
   "cell_type": "code",
   "execution_count": 91,
   "metadata": {},
   "outputs": [
    {
     "name": "stdout",
     "output_type": "stream",
     "text": [
      "<class 'pandas.core.frame.DataFrame'>\n",
      "Int64Index: 891 entries, 1 to 891\n",
      "Data columns (total 11 columns):\n",
      "Survived    891 non-null int64\n",
      "Pclass      891 non-null int64\n",
      "Name        891 non-null object\n",
      "Sex         891 non-null object\n",
      "Age         714 non-null float64\n",
      "SibSp       891 non-null int64\n",
      "Parch       891 non-null int64\n",
      "Ticket      891 non-null object\n",
      "Fare        891 non-null float64\n",
      "Cabin       204 non-null object\n",
      "Embarked    889 non-null object\n",
      "dtypes: float64(2), int64(4), object(5)\n",
      "memory usage: 83.5+ KB\n"
     ]
    }
   ],
   "source": [
    "train.info()"
   ]
  },
  {
   "cell_type": "code",
   "execution_count": 99,
   "metadata": {},
   "outputs": [
    {
     "data": {
      "text/html": [
       "<div>\n",
       "<style scoped>\n",
       "    .dataframe tbody tr th:only-of-type {\n",
       "        vertical-align: middle;\n",
       "    }\n",
       "\n",
       "    .dataframe tbody tr th {\n",
       "        vertical-align: top;\n",
       "    }\n",
       "\n",
       "    .dataframe thead th {\n",
       "        text-align: right;\n",
       "    }\n",
       "</style>\n",
       "<table border=\"1\" class=\"dataframe\">\n",
       "  <thead>\n",
       "    <tr style=\"text-align: right;\">\n",
       "      <th>Pclass</th>\n",
       "      <th>1</th>\n",
       "      <th>2</th>\n",
       "      <th>3</th>\n",
       "    </tr>\n",
       "    <tr>\n",
       "      <th>Sex</th>\n",
       "      <th></th>\n",
       "      <th></th>\n",
       "      <th></th>\n",
       "    </tr>\n",
       "  </thead>\n",
       "  <tbody>\n",
       "    <tr>\n",
       "      <th>female</th>\n",
       "      <td>50</td>\n",
       "      <td>30</td>\n",
       "      <td>72</td>\n",
       "    </tr>\n",
       "    <tr>\n",
       "      <th>male</th>\n",
       "      <td>57</td>\n",
       "      <td>63</td>\n",
       "      <td>146</td>\n",
       "    </tr>\n",
       "  </tbody>\n",
       "</table>\n",
       "</div>"
      ],
      "text/plain": [
       "Pclass   1   2    3\n",
       "Sex                \n",
       "female  50  30   72\n",
       "male    57  63  146"
      ]
     },
     "execution_count": 99,
     "metadata": {},
     "output_type": "execute_result"
    }
   ],
   "source": [
    "import matplotlib as pl\n",
    "pd.crosstab(test.Sex,test.Pclass)"
   ]
  },
  {
   "cell_type": "code",
   "execution_count": 100,
   "metadata": {},
   "outputs": [
    {
     "data": {
      "text/plain": [
       "<matplotlib.axes._subplots.AxesSubplot at 0x13098a20>"
      ]
     },
     "execution_count": 100,
     "metadata": {},
     "output_type": "execute_result"
    },
    {
     "data": {
      "image/png": "[encoded data removed]",
      "text/plain": [
       "<matplotlib.figure.Figure at 0x12eeda20>"
      ]
     },
     "metadata": {},
     "output_type": "display_data"
    }
   ],
   "source": [
    "\n",
    "pd.crosstab(test.Sex,test.Pclass).plot(kind = 'bar')"
   ]
  },
  {
   "cell_type": "code",
   "execution_count": 101,
   "metadata": {},
   "outputs": [
    {
     "data": {
      "text/html": [
       "<div>\n",
       "<style scoped>\n",
       "    .dataframe tbody tr th:only-of-type {\n",
       "        vertical-align: middle;\n",
       "    }\n",
       "\n",
       "    .dataframe tbody tr th {\n",
       "        vertical-align: top;\n",
       "    }\n",
       "\n",
       "    .dataframe thead th {\n",
       "        text-align: right;\n",
       "    }\n",
       "</style>\n",
       "<table border=\"1\" class=\"dataframe\">\n",
       "  <thead>\n",
       "    <tr style=\"text-align: right;\">\n",
       "      <th>Pclass</th>\n",
       "      <th>1</th>\n",
       "      <th>2</th>\n",
       "      <th>3</th>\n",
       "    </tr>\n",
       "    <tr>\n",
       "      <th>Sex</th>\n",
       "      <th></th>\n",
       "      <th></th>\n",
       "      <th></th>\n",
       "    </tr>\n",
       "  </thead>\n",
       "  <tbody>\n",
       "    <tr>\n",
       "      <th>female</th>\n",
       "      <td>34.611765</td>\n",
       "      <td>28.722973</td>\n",
       "      <td>21.750000</td>\n",
       "    </tr>\n",
       "    <tr>\n",
       "      <th>male</th>\n",
       "      <td>41.281386</td>\n",
       "      <td>30.740707</td>\n",
       "      <td>26.507589</td>\n",
       "    </tr>\n",
       "  </tbody>\n",
       "</table>\n",
       "</div>"
      ],
      "text/plain": [
       "Pclass          1          2          3\n",
       "Sex                                    \n",
       "female  34.611765  28.722973  21.750000\n",
       "male    41.281386  30.740707  26.507589"
      ]
     },
     "execution_count": 101,
     "metadata": {},
     "output_type": "execute_result"
    }
   ],
   "source": [
    "train.pivot_table(index = 'Sex',columns='Pclass',values='Age',aggfunc='mean')"
   ]
  },
  {
   "cell_type": "code",
   "execution_count": 104,
   "metadata": {},
   "outputs": [
    {
     "data": {
      "text/plain": [
       "Sex     Age  \n",
       "female  0.75      0.75\n",
       "        1.00      1.00\n",
       "        2.00      2.00\n",
       "        3.00      3.00\n",
       "        4.00      4.00\n",
       "        5.00      5.00\n",
       "        6.00      6.00\n",
       "        7.00      7.00\n",
       "        8.00      8.00\n",
       "        9.00      9.00\n",
       "        10.00    10.00\n",
       "        11.00    11.00\n",
       "        13.00    13.00\n",
       "        14.00    14.00\n",
       "        14.50    14.50\n",
       "        15.00    15.00\n",
       "        16.00    16.00\n",
       "        17.00    17.00\n",
       "        18.00    18.00\n",
       "        19.00    19.00\n",
       "        20.00    20.00\n",
       "        21.00    21.00\n",
       "        22.00    22.00\n",
       "        23.00    23.00\n",
       "        24.00    24.00\n",
       "        25.00    25.00\n",
       "        26.00    26.00\n",
       "        27.00    27.00\n",
       "        28.00    28.00\n",
       "        29.00    29.00\n",
       "                 ...  \n",
       "male    42.00    42.00\n",
       "        43.00    43.00\n",
       "        44.00    44.00\n",
       "        45.00    45.00\n",
       "        45.50    45.50\n",
       "        46.00    46.00\n",
       "        47.00    47.00\n",
       "        48.00    48.00\n",
       "        49.00    49.00\n",
       "        50.00    50.00\n",
       "        51.00    51.00\n",
       "        52.00    52.00\n",
       "        54.00    54.00\n",
       "        55.00    55.00\n",
       "        55.50    55.50\n",
       "        56.00    56.00\n",
       "        57.00    57.00\n",
       "        58.00    58.00\n",
       "        59.00    59.00\n",
       "        60.00    60.00\n",
       "        61.00    61.00\n",
       "        62.00    62.00\n",
       "        64.00    64.00\n",
       "        65.00    65.00\n",
       "        66.00    66.00\n",
       "        70.00    70.00\n",
       "        70.50    70.50\n",
       "        71.00    71.00\n",
       "        74.00    74.00\n",
       "        80.00    80.00\n",
       "Name: Age, Length: 145, dtype: float64"
      ]
     },
     "execution_count": 104,
     "metadata": {},
     "output_type": "execute_result"
    }
   ],
   "source": [
    "train.groupby(['Sex','Age']).Age.mean()"
   ]
  },
  {
   "cell_type": "code",
   "execution_count": null,
   "metadata": {},
   "outputs": [],
   "source": []
  }
 ],
 "metadata": {
  "kernelspec": {
   "display_name": "Python 2",
   "language": "python",
   "name": "python2"
  },
  "language_info": {
   "codemirror_mode": {
    "name": "ipython",
    "version": 2
   },
   "file_extension": ".py",
   "mimetype": "text/x-python",
   "name": "python",
   "nbconvert_exporter": "python",
   "pygments_lexer": "ipython2",
   "version": "2.7.14"
  }
 },
 "nbformat": 4,
 "nbformat_minor": 2
}

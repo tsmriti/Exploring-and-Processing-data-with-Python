{
 "cells": [
  {
   "cell_type": "code",
   "execution_count": 1,
   "metadata": {},
   "outputs": [],
   "source": [
    "import MySQLdb"
   ]
  },
  {
   "cell_type": "code",
   "execution_count": 2,
   "metadata": {},
   "outputs": [],
   "source": [
    "db = MySQLdb.connect(\"localhost\",\"root\",\"\",\"testdb\")"
   ]
  },
  {
   "cell_type": "code",
   "execution_count": 3,
   "metadata": {},
   "outputs": [],
   "source": [
    "cursor= db.cursor()\n"
   ]
  },
  {
   "cell_type": "code",
   "execution_count": 4,
   "metadata": {},
   "outputs": [],
   "source": [
    "sql = \"Insert into employee values('%s','%s','%d','%s','%d')\" % ('Smriti','Tamrakar',29,'F',5000)"
   ]
  },
  {
   "cell_type": "code",
   "execution_count": 5,
   "metadata": {},
   "outputs": [
    {
     "data": {
      "text/plain": [
       "1L"
      ]
     },
     "execution_count": 5,
     "metadata": {},
     "output_type": "execute_result"
    }
   ],
   "source": [
    "cursor.execute(sql)"
   ]
  },
  {
   "cell_type": "code",
   "execution_count": 6,
   "metadata": {},
   "outputs": [],
   "source": [
    "db.commit()"
   ]
  },
  {
   "cell_type": "code",
   "execution_count": 7,
   "metadata": {},
   "outputs": [],
   "source": [
    "db.close()"
   ]
  },
  {
   "cell_type": "code",
   "execution_count": 8,
   "metadata": {},
   "outputs": [
    {
     "ename": "InterfaceError",
     "evalue": "(0, '')",
     "output_type": "error",
     "traceback": [
      "\u001b[1;31m---------------------------------------------------------------------------\u001b[0m",
      "\u001b[1;31mInterfaceError\u001b[0m                            Traceback (most recent call last)",
      "\u001b[1;32m<ipython-input-8-c09949f62056>\u001b[0m in \u001b[0;36m<module>\u001b[1;34m()\u001b[0m\n\u001b[1;32m----> 1\u001b[1;33m \u001b[0mcursor\u001b[0m\u001b[1;33m.\u001b[0m\u001b[0mexecute\u001b[0m\u001b[1;33m(\u001b[0m\u001b[0msql\u001b[0m\u001b[1;33m)\u001b[0m\u001b[1;33m\u001b[0m\u001b[0m\n\u001b[0m",
      "\u001b[1;32mc:\\users\\sim\\miniconda2\\lib\\site-packages\\MySQLdb\\cursors.pyc\u001b[0m in \u001b[0;36mexecute\u001b[1;34m(self, query, args)\u001b[0m\n\u001b[0;32m    203\u001b[0m             \u001b[1;32mdel\u001b[0m \u001b[0mtb\u001b[0m\u001b[1;33m\u001b[0m\u001b[0m\n\u001b[0;32m    204\u001b[0m             \u001b[0mself\u001b[0m\u001b[1;33m.\u001b[0m\u001b[0mmessages\u001b[0m\u001b[1;33m.\u001b[0m\u001b[0mappend\u001b[0m\u001b[1;33m(\u001b[0m\u001b[1;33m(\u001b[0m\u001b[0mexc\u001b[0m\u001b[1;33m,\u001b[0m \u001b[0mvalue\u001b[0m\u001b[1;33m)\u001b[0m\u001b[1;33m)\u001b[0m\u001b[1;33m\u001b[0m\u001b[0m\n\u001b[1;32m--> 205\u001b[1;33m             \u001b[0mself\u001b[0m\u001b[1;33m.\u001b[0m\u001b[0merrorhandler\u001b[0m\u001b[1;33m(\u001b[0m\u001b[0mself\u001b[0m\u001b[1;33m,\u001b[0m \u001b[0mexc\u001b[0m\u001b[1;33m,\u001b[0m \u001b[0mvalue\u001b[0m\u001b[1;33m)\u001b[0m\u001b[1;33m\u001b[0m\u001b[0m\n\u001b[0m\u001b[0;32m    206\u001b[0m         \u001b[0mself\u001b[0m\u001b[1;33m.\u001b[0m\u001b[0m_executed\u001b[0m \u001b[1;33m=\u001b[0m \u001b[0mquery\u001b[0m\u001b[1;33m\u001b[0m\u001b[0m\n\u001b[0;32m    207\u001b[0m         \u001b[1;32mif\u001b[0m \u001b[1;32mnot\u001b[0m \u001b[0mself\u001b[0m\u001b[1;33m.\u001b[0m\u001b[0m_defer_warnings\u001b[0m\u001b[1;33m:\u001b[0m \u001b[0mself\u001b[0m\u001b[1;33m.\u001b[0m\u001b[0m_warning_check\u001b[0m\u001b[1;33m(\u001b[0m\u001b[1;33m)\u001b[0m\u001b[1;33m\u001b[0m\u001b[0m\n",
      "\u001b[1;32mc:\\users\\sim\\miniconda2\\lib\\site-packages\\MySQLdb\\connections.pyc\u001b[0m in \u001b[0;36mdefaulterrorhandler\u001b[1;34m(***failed resolving arguments***)\u001b[0m\n\u001b[0;32m     34\u001b[0m     \u001b[1;32mdel\u001b[0m \u001b[0mcursor\u001b[0m\u001b[1;33m\u001b[0m\u001b[0m\n\u001b[0;32m     35\u001b[0m     \u001b[1;32mdel\u001b[0m \u001b[0mconnection\u001b[0m\u001b[1;33m\u001b[0m\u001b[0m\n\u001b[1;32m---> 36\u001b[1;33m     \u001b[1;32mraise\u001b[0m \u001b[0merrorclass\u001b[0m\u001b[1;33m,\u001b[0m \u001b[0merrorvalue\u001b[0m\u001b[1;33m\u001b[0m\u001b[0m\n\u001b[0m\u001b[0;32m     37\u001b[0m \u001b[1;33m\u001b[0m\u001b[0m\n\u001b[0;32m     38\u001b[0m \u001b[0mre_numeric_part\u001b[0m \u001b[1;33m=\u001b[0m \u001b[0mre\u001b[0m\u001b[1;33m.\u001b[0m\u001b[0mcompile\u001b[0m\u001b[1;33m(\u001b[0m\u001b[1;34mr\"^(\\d+)\"\u001b[0m\u001b[1;33m)\u001b[0m\u001b[1;33m\u001b[0m\u001b[0m\n",
      "\u001b[1;31mInterfaceError\u001b[0m: (0, '')"
     ]
    }
   ],
   "source": [
    "cursor.execute(sql)"
   ]
  },
  {
   "cell_type": "code",
   "execution_count": 9,
   "metadata": {},
   "outputs": [],
   "source": [
    "db = MySQLdb.connect(\"localhost\",\"root\",\"\",\"testdb\")"
   ]
  },
  {
   "cell_type": "code",
   "execution_count": 10,
   "metadata": {},
   "outputs": [],
   "source": [
    "cursor = db.cursor()\n",
    "sql=\"Insert into employee values ('%s','%s','%d','%s','%d')\"%('Manik','Dsn',39,'M',2342)\n",
    "try:\n",
    "    cursor.execute(sql)\n",
    "    db.commit()\n",
    "except:\n",
    "    db.rollback()\n",
    "db.commit()"
   ]
  },
  {
   "cell_type": "code",
   "execution_count": 11,
   "metadata": {},
   "outputs": [],
   "source": [
    "import requests"
   ]
  },
  {
   "cell_type": "code",
   "execution_count": 3,
   "metadata": {},
   "outputs": [],
   "source": [
    "import os"
   ]
  },
  {
   "cell_type": "code",
   "execution_count": 4,
   "metadata": {},
   "outputs": [
    {
     "data": {
      "text/plain": [
       "'C:\\\\Users\\\\sim\\\\Miniconda2'"
      ]
     },
     "execution_count": 4,
     "metadata": {},
     "output_type": "execute_result"
    }
   ],
   "source": [
    "os.getcwd()"
   ]
  },
  {
   "cell_type": "code",
   "execution_count": 5,
   "metadata": {},
   "outputs": [],
   "source": [
    "os.rmdir(\"smriti\")"
   ]
  },
  {
   "cell_type": "code",
   "execution_count": 6,
   "metadata": {},
   "outputs": [
    {
     "name": "stdout",
     "output_type": "stream",
     "text": [
      " Volume in drive C is Windows8\n",
      " Volume Serial Number is 9864-4750\n",
      "\n",
      " Directory of C:\\Users\\sim\\Miniconda2\n",
      "\n",
      "01/23/2018  12:56 PM    <DIR>          .\n",
      "01/23/2018  12:56 PM    <DIR>          ..\n",
      "01/23/2018  11:45 AM    <DIR>          .ipynb_checkpoints\n",
      "01/23/2018  10:41 AM                 0 .nonadmin\n",
      "01/21/2018  03:03 PM               577 abc.py\n",
      "01/23/2018  10:41 AM    <DIR>          conda-meta\n",
      "10/17/2017  05:13 AM             1,063 cwp.py\n",
      "01/17/2018  06:07 PM    <DIR>          DLLs\n",
      "01/23/2018  12:51 PM    <DIR>          envs\n",
      "01/23/2018  10:41 AM    <DIR>          etc\n",
      "01/21/2018  05:55 PM               105 func.py\n",
      "01/17/2018  06:07 PM    <DIR>          include\n",
      "01/23/2018  09:50 AM    <DIR>          Lib\n",
      "01/17/2018  06:07 PM    <DIR>          Library\n",
      "01/17/2018  06:07 PM    <DIR>          libs\n",
      "01/17/2018  06:07 PM    <DIR>          Menu\n",
      "08/20/2010  02:06 AM           245,760 msvcm90.dll\n",
      "08/20/2010  02:06 AM           853,328 msvcp90.dll\n",
      "08/20/2010  02:06 AM           624,464 msvcr90.dll\n",
      "01/23/2018  09:24 AM             3,452 MySQL-python-wininst.log\n",
      "01/21/2018  11:11 AM                 0 New Text Document.txt\n",
      "01/22/2018  01:07 PM             4,136 new_foo.py\n",
      "12/07/2017  09:09 AM           514,048 openssl.exe\n",
      "01/23/2018  10:41 AM    <DIR>          pkgs\n",
      "01/22/2018  06:24 PM            29,681 Python file practice.ipynb\n",
      "11/08/2017  02:41 PM            28,160 python.exe\n",
      "11/08/2017  02:41 PM           191,488 python.pdb\n",
      "11/08/2017  02:41 PM         3,424,256 python27.dll\n",
      "11/08/2017  02:41 PM         4,967,424 python27.pdb\n",
      "09/18/2017  10:25 AM           548,352 pythoncom27.dll\n",
      "09/18/2017  10:29 AM             8,704 pythoncomloader27.dll\n",
      "01/23/2018  12:40 PM             5,764 Python-Mysql.ipynb\n",
      "11/08/2017  02:41 PM            28,160 pythonw.exe\n",
      "11/08/2017  02:41 PM           199,680 pythonw.pdb\n",
      "09/18/2017  10:23 AM           137,216 pywintypes27.dll\n",
      "01/23/2018  09:24 AM           196,096 RemoveMySQL-python.exe\n",
      "01/23/2018  10:41 AM    <DIR>          Scripts\n",
      "01/17/2018  06:34 PM    <DIR>          share\n",
      "01/17/2018  06:07 PM    <DIR>          ssl\n",
      "01/17/2018  06:07 PM    <DIR>          tcl\n",
      "01/21/2018  10:35 AM                20 test.py.txt\n",
      "01/17/2018  10:51 PM    <DIR>          titanic\n",
      "01/17/2018  06:07 PM    <DIR>          Tools\n",
      "01/17/2018  06:07 PM           306,974 Uninstall-Miniconda2.exe\n",
      "01/17/2018  06:51 PM            15,082 Untitled.ipynb\n",
      "01/17/2018  09:26 PM             1,486 Untitled1.ipynb\n",
      "01/18/2018  10:39 AM            18,098 Untitled2.ipynb\n",
      "01/18/2018  11:16 AM             5,146 Untitled3.ipynb\n",
      "01/18/2018  01:26 PM         4,343,765 Untitled4.ipynb\n",
      "01/18/2018  01:27 PM                72 Untitled5.ipynb\n",
      "08/20/2010  02:06 AM            56,656 vcomp90.dll\n",
      "11/08/2017  02:41 PM           117,760 w9xpopen.exe\n",
      "              33 File(s)     16,876,973 bytes\n",
      "              19 Dir(s)  50,227,634,176 bytes free\n"
     ]
    }
   ],
   "source": [
    "ls"
   ]
  },
  {
   "cell_type": "code",
   "execution_count": 7,
   "metadata": {},
   "outputs": [],
   "source": [
    "import requests"
   ]
  },
  {
   "cell_type": "code",
   "execution_count": 8,
   "metadata": {},
   "outputs": [
    {
     "data": {
      "text/plain": [
       "200"
      ]
     },
     "execution_count": 8,
     "metadata": {},
     "output_type": "execute_result"
    }
   ],
   "source": [
    "url = 'https://assets.digitalocean.com/articles/eng_python/beautiful-soup/mockturtle.html'\n",
    "result = requests.get(url)\n",
    "result.status_code"
   ]
  },
  {
   "cell_type": "code",
   "execution_count": 9,
   "metadata": {},
   "outputs": [
    {
     "data": {
      "text/plain": [
       "u'<!DOCTYPE html PUBLIC \"-//W3C//DTD XHTML 1.0 Strict//EN\"\\n    \"http://www.w3.org/TR/xhtml1/DTD/xhtml1-strict.dtd\">\\n\\n<html lang=\"en-US\" xmlns=\"http://www.w3.org/1999/xhtml\" xml:lang=\"en-US\">\\n<head>\\n  <meta http-equiv=\"content-type\" content=\"text/html; charset=us-ascii\" />\\n\\n  <title>Turtle Soup</title>\\n</head>\\n\\n<body>\\n  <h1>Turtle Soup</h1>\\n\\n  <p class=\"verse\" id=\"first\">Beautiful Soup, so rich and green,<br />\\n  Waiting in a hot tureen!<br />\\n  Who for such dainties would not stoop?<br />\\n  Soup of the evening, beautiful Soup!<br />\\n  Soup of the evening, beautiful Soup!<br /></p>\\n\\n  <p class=\"chorus\" id=\"second\">Beau--ootiful Soo--oop!<br />\\n  Beau--ootiful Soo--oop!<br />\\n  Soo--oop of the e--e--evening,<br />\\n  Beautiful, beautiful Soup!<br /></p>\\n\\n  <p class=\"verse\" id=\"third\">Beautiful Soup! Who cares for fish,<br />\\n  Game or any other dish?<br />\\n  Who would not give all else for two<br />\\n  Pennyworth only of Beautiful Soup?<br />\\n  Pennyworth only of beautiful Soup?<br /></p>\\n\\n  <p class=\"chorus\" id=\"fourth\">Beau--ootiful Soo--oop!<br />\\n  Beau--ootiful Soo--oop!<br />\\n  Soo--oop of the e--e--evening,<br />\\n  Beautiful, beauti--FUL SOUP!<br /></p>\\n</body>\\n</html>\\n'"
      ]
     },
     "execution_count": 9,
     "metadata": {},
     "output_type": "execute_result"
    }
   ],
   "source": [
    "result.text"
   ]
  },
  {
   "cell_type": "code",
   "execution_count": 10,
   "metadata": {},
   "outputs": [
    {
     "ename": "ImportError",
     "evalue": "No module named beautifulsoup",
     "output_type": "error",
     "traceback": [
      "\u001b[1;31m---------------------------------------------------------------------------\u001b[0m",
      "\u001b[1;31mImportError\u001b[0m                               Traceback (most recent call last)",
      "\u001b[1;32m<ipython-input-10-0f588c5a1d86>\u001b[0m in \u001b[0;36m<module>\u001b[1;34m()\u001b[0m\n\u001b[1;32m----> 1\u001b[1;33m \u001b[1;32mimport\u001b[0m \u001b[0mbeautifulsoup\u001b[0m\u001b[1;33m\u001b[0m\u001b[0m\n\u001b[0m",
      "\u001b[1;31mImportError\u001b[0m: No module named beautifulsoup"
     ]
    }
   ],
   "source": [
    "import beautifulsoup"
   ]
  },
  {
   "cell_type": "code",
   "execution_count": 12,
   "metadata": {},
   "outputs": [],
   "source": [
    "from bs4 import BeautifulSoup"
   ]
  },
  {
   "cell_type": "code",
   "execution_count": 13,
   "metadata": {},
   "outputs": [],
   "source": [
    "soup = BeautifulSoup(result.text,'html.parser')"
   ]
  },
  {
   "cell_type": "code",
   "execution_count": 14,
   "metadata": {},
   "outputs": [
    {
     "name": "stdout",
     "output_type": "stream",
     "text": [
      "<!DOCTYPE html PUBLIC \"-//W3C//DTD XHTML 1.0 Strict//EN\"\n",
      "    \"http://www.w3.org/TR/xhtml1/DTD/xhtml1-strict.dtd\">\n",
      "<html lang=\"en-US\" xml:lang=\"en-US\" xmlns=\"http://www.w3.org/1999/xhtml\">\n",
      " <head>\n",
      "  <meta content=\"text/html; charset=utf-8\" http-equiv=\"content-type\"/>\n",
      "  <title>\n",
      "   Turtle Soup\n",
      "  </title>\n",
      " </head>\n",
      " <body>\n",
      "  <h1>\n",
      "   Turtle Soup\n",
      "  </h1>\n",
      "  <p class=\"verse\" id=\"first\">\n",
      "   Beautiful Soup, so rich and green,\n",
      "   <br/>\n",
      "   Waiting in a hot tureen!\n",
      "   <br/>\n",
      "   Who for such dainties would not stoop?\n",
      "   <br/>\n",
      "   Soup of the evening, beautiful Soup!\n",
      "   <br/>\n",
      "   Soup of the evening, beautiful Soup!\n",
      "   <br/>\n",
      "  </p>\n",
      "  <p class=\"chorus\" id=\"second\">\n",
      "   Beau--ootiful Soo--oop!\n",
      "   <br/>\n",
      "   Beau--ootiful Soo--oop!\n",
      "   <br/>\n",
      "   Soo--oop of the e--e--evening,\n",
      "   <br/>\n",
      "   Beautiful, beautiful Soup!\n",
      "   <br/>\n",
      "  </p>\n",
      "  <p class=\"verse\" id=\"third\">\n",
      "   Beautiful Soup! Who cares for fish,\n",
      "   <br/>\n",
      "   Game or any other dish?\n",
      "   <br/>\n",
      "   Who would not give all else for two\n",
      "   <br/>\n",
      "   Pennyworth only of Beautiful Soup?\n",
      "   <br/>\n",
      "   Pennyworth only of beautiful Soup?\n",
      "   <br/>\n",
      "  </p>\n",
      "  <p class=\"chorus\" id=\"fourth\">\n",
      "   Beau--ootiful Soo--oop!\n",
      "   <br/>\n",
      "   Beau--ootiful Soo--oop!\n",
      "   <br/>\n",
      "   Soo--oop of the e--e--evening,\n",
      "   <br/>\n",
      "   Beautiful, beauti--FUL SOUP!\n",
      "   <br/>\n",
      "  </p>\n",
      " </body>\n",
      "</html>\n",
      "\n"
     ]
    }
   ],
   "source": [
    "print(soup.prettify())"
   ]
  },
  {
   "cell_type": "code",
   "execution_count": 16,
   "metadata": {},
   "outputs": [
    {
     "data": {
      "text/plain": [
       "u'Beautiful Soup! Who cares for fish,\\n  Game or any other dish?\\n  Who would not give all else for two\\n  Pennyworth only of Beautiful Soup?\\n  Pennyworth only of beautiful Soup?'"
      ]
     },
     "execution_count": 16,
     "metadata": {},
     "output_type": "execute_result"
    }
   ],
   "source": [
    "soup.find_all('p')[2].get_text()"
   ]
  },
  {
   "cell_type": "code",
   "execution_count": 24,
   "metadata": {},
   "outputs": [
    {
     "data": {
      "text/plain": [
       "[<p class=\"chorus\" id=\"second\">Beau--ootiful Soo--oop!<br/>\\n  Beau--ootiful Soo--oop!<br/>\\n  Soo--oop of the e--e--evening,<br/>\\n  Beautiful, beautiful Soup!<br/></p>]"
      ]
     },
     "execution_count": 24,
     "metadata": {},
     "output_type": "execute_result"
    }
   ],
   "source": [
    "soup.find_all(id = 'second')"
   ]
  },
  {
   "cell_type": "code",
   "execution_count": 25,
   "metadata": {},
   "outputs": [],
   "source": [
    "import requests"
   ]
  },
  {
   "cell_type": "raw",
   "metadata": {},
   "source": [
    "url = 'https://assets.digitalocean.com/articles/eng_python/beautiful-soup/mockturtle.html'"
   ]
  },
  {
   "cell_type": "code",
   "execution_count": 26,
   "metadata": {},
   "outputs": [],
   "source": [
    "url = 'https://assets.digitalocean.com/articles/eng_python/beautiful-soup/mockturtle.html'"
   ]
  },
  {
   "cell_type": "code",
   "execution_count": 27,
   "metadata": {},
   "outputs": [
    {
     "ename": "NameError",
     "evalue": "name 'prettify' is not defined",
     "output_type": "error",
     "traceback": [
      "\u001b[1;31m---------------------------------------------------------------------------\u001b[0m",
      "\u001b[1;31mNameError\u001b[0m                                 Traceback (most recent call last)",
      "\u001b[1;32m<ipython-input-27-8ddc6f1cf399>\u001b[0m in \u001b[0;36m<module>\u001b[1;34m()\u001b[0m\n\u001b[0;32m      1\u001b[0m \u001b[0mpage\u001b[0m \u001b[1;33m=\u001b[0m \u001b[0mrequests\u001b[0m\u001b[1;33m.\u001b[0m\u001b[0mget\u001b[0m\u001b[1;33m(\u001b[0m\u001b[0murl\u001b[0m\u001b[1;33m)\u001b[0m\u001b[1;33m\u001b[0m\u001b[0m\n\u001b[1;32m----> 2\u001b[1;33m \u001b[1;32mprint\u001b[0m\u001b[1;33m(\u001b[0m\u001b[0mprettify\u001b[0m\u001b[1;33m(\u001b[0m\u001b[0mpage\u001b[0m\u001b[1;33m)\u001b[0m\u001b[1;33m)\u001b[0m\u001b[1;33m\u001b[0m\u001b[0m\n\u001b[0m",
      "\u001b[1;31mNameError\u001b[0m: name 'prettify' is not defined"
     ]
    }
   ],
   "source": [
    "page = requests.get(url)\n",
    "print(prettify(page))"
   ]
  },
  {
   "cell_type": "code",
   "execution_count": 28,
   "metadata": {},
   "outputs": [
    {
     "ename": "TypeError",
     "evalue": "'unicode' object is not callable",
     "output_type": "error",
     "traceback": [
      "\u001b[1;31m---------------------------------------------------------------------------\u001b[0m",
      "\u001b[1;31mTypeError\u001b[0m                                 Traceback (most recent call last)",
      "\u001b[1;32m<ipython-input-28-73c1e8a32e57>\u001b[0m in \u001b[0;36m<module>\u001b[1;34m()\u001b[0m\n\u001b[1;32m----> 1\u001b[1;33m \u001b[0mpage\u001b[0m\u001b[1;33m.\u001b[0m\u001b[0mtext\u001b[0m\u001b[1;33m(\u001b[0m\u001b[1;33m)\u001b[0m\u001b[1;33m\u001b[0m\u001b[0m\n\u001b[0m",
      "\u001b[1;31mTypeError\u001b[0m: 'unicode' object is not callable"
     ]
    }
   ],
   "source": [
    "page.text()"
   ]
  },
  {
   "cell_type": "code",
   "execution_count": 29,
   "metadata": {},
   "outputs": [
    {
     "data": {
      "text/plain": [
       "200"
      ]
     },
     "execution_count": 29,
     "metadata": {},
     "output_type": "execute_result"
    }
   ],
   "source": [
    "page.status_code"
   ]
  },
  {
   "cell_type": "code",
   "execution_count": 30,
   "metadata": {},
   "outputs": [
    {
     "data": {
      "text/plain": [
       "u'<!DOCTYPE html PUBLIC \"-//W3C//DTD XHTML 1.0 Strict//EN\"\\n    \"http://www.w3.org/TR/xhtml1/DTD/xhtml1-strict.dtd\">\\n\\n<html lang=\"en-US\" xmlns=\"http://www.w3.org/1999/xhtml\" xml:lang=\"en-US\">\\n<head>\\n  <meta http-equiv=\"content-type\" content=\"text/html; charset=us-ascii\" />\\n\\n  <title>Turtle Soup</title>\\n</head>\\n\\n<body>\\n  <h1>Turtle Soup</h1>\\n\\n  <p class=\"verse\" id=\"first\">Beautiful Soup, so rich and green,<br />\\n  Waiting in a hot tureen!<br />\\n  Who for such dainties would not stoop?<br />\\n  Soup of the evening, beautiful Soup!<br />\\n  Soup of the evening, beautiful Soup!<br /></p>\\n\\n  <p class=\"chorus\" id=\"second\">Beau--ootiful Soo--oop!<br />\\n  Beau--ootiful Soo--oop!<br />\\n  Soo--oop of the e--e--evening,<br />\\n  Beautiful, beautiful Soup!<br /></p>\\n\\n  <p class=\"verse\" id=\"third\">Beautiful Soup! Who cares for fish,<br />\\n  Game or any other dish?<br />\\n  Who would not give all else for two<br />\\n  Pennyworth only of Beautiful Soup?<br />\\n  Pennyworth only of beautiful Soup?<br /></p>\\n\\n  <p class=\"chorus\" id=\"fourth\">Beau--ootiful Soo--oop!<br />\\n  Beau--ootiful Soo--oop!<br />\\n  Soo--oop of the e--e--evening,<br />\\n  Beautiful, beauti--FUL SOUP!<br /></p>\\n</body>\\n</html>\\n'"
      ]
     },
     "execution_count": 30,
     "metadata": {},
     "output_type": "execute_result"
    }
   ],
   "source": [
    "page.text"
   ]
  },
  {
   "cell_type": "code",
   "execution_count": 31,
   "metadata": {},
   "outputs": [],
   "source": [
    "from bs4 import BeautifulSoup"
   ]
  },
  {
   "cell_type": "code",
   "execution_count": 33,
   "metadata": {},
   "outputs": [],
   "source": [
    "s = BeautifulSoup(page.text,'html.parser')"
   ]
  },
  {
   "cell_type": "code",
   "execution_count": 37,
   "metadata": {},
   "outputs": [
    {
     "data": {
      "text/plain": [
       "[<p class=\"verse\" id=\"first\">Beautiful Soup, so rich and green,<br/>\\n  Waiting in a hot tureen!<br/>\\n  Who for such dainties would not stoop?<br/>\\n  Soup of the evening, beautiful Soup!<br/>\\n  Soup of the evening, beautiful Soup!<br/></p>]"
      ]
     },
     "execution_count": 37,
     "metadata": {},
     "output_type": "execute_result"
    }
   ],
   "source": [
    "s.find_all(class_='verse',id = 'first')"
   ]
  },
  {
   "cell_type": "code",
   "execution_count": null,
   "metadata": {},
   "outputs": [],
   "source": []
  }
 ],
 "metadata": {
  "kernelspec": {
   "display_name": "Python 2",
   "language": "python",
   "name": "python2"
  },
  "language_info": {
   "codemirror_mode": {
    "name": "ipython",
    "version": 2
   },
   "file_extension": ".py",
   "mimetype": "text/x-python",
   "name": "python",
   "nbconvert_exporter": "python",
   "pygments_lexer": "ipython2",
   "version": "2.7.14"
  }
 },
 "nbformat": 4,
 "nbformat_minor": 2
}
